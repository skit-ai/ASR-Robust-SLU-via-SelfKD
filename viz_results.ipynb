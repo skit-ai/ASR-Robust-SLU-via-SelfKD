{
 "cells": [
  {
   "cell_type": "code",
   "execution_count": 1,
   "metadata": {},
   "outputs": [],
   "source": [
    "import os\n",
    "from glob import glob\n",
    "import json\n",
    "import pandas as pd"
   ]
  },
  {
   "cell_type": "code",
   "execution_count": 2,
   "metadata": {},
   "outputs": [],
   "source": [
    "\n",
    "def read_file(f):\n",
    "    j = json.load(open(f, \"r\"))\n",
    "    if j.get(\"Method\", False):\n",
    "        return j\n",
    "    elif j[\"use_clean\"]:\n",
    "        j[\"Method\"] = \"Gold\"\n",
    "    elif j.get(\"use_n_best\", False):\n",
    "            j[\"Method\"] = \"NBest\"\n",
    "    else:\n",
    "        assert (j.get(\"use_n_best\", False) == False)\n",
    "        j[\"Method\"] = \"1Best\"\n",
    "    return j\n",
    "\n",
    "    \n",
    "def get_df(dataset):\n",
    "    all_files = glob(f\"stats/{dataset}/*.json\")\n",
    "    rows = []\n",
    "    for f in all_files:\n",
    "        ret = read_file(f)\n",
    "        if ret is not None:\n",
    "            rows.append(ret)\n",
    "    df = pd.DataFrame(rows)\n",
    "    return df\n"
   ]
  },
  {
   "cell_type": "code",
   "execution_count": 3,
   "metadata": {},
   "outputs": [],
   "source": [
    "df = get_df(\"snips_tts\")\n",
    "df = df.sort_values(\"Method\")"
   ]
  },
  {
   "cell_type": "code",
   "execution_count": 4,
   "metadata": {},
   "outputs": [
    {
     "data": {
      "text/html": [
       "<div>\n",
       "<style scoped>\n",
       "    .dataframe tbody tr th:only-of-type {\n",
       "        vertical-align: middle;\n",
       "    }\n",
       "\n",
       "    .dataframe tbody tr th {\n",
       "        vertical-align: top;\n",
       "    }\n",
       "\n",
       "    .dataframe thead th {\n",
       "        text-align: right;\n",
       "    }\n",
       "</style>\n",
       "<table border=\"1\" class=\"dataframe\">\n",
       "  <thead>\n",
       "    <tr style=\"text-align: right;\">\n",
       "      <th></th>\n",
       "      <th>Method</th>\n",
       "      <th>asr_f1 mean</th>\n",
       "      <th>asr_f1 std</th>\n",
       "      <th>clean_f1 mean</th>\n",
       "      <th>clean_f1 std</th>\n",
       "    </tr>\n",
       "  </thead>\n",
       "  <tbody>\n",
       "    <tr>\n",
       "      <th>0</th>\n",
       "      <td>1Best</td>\n",
       "      <td>0.923</td>\n",
       "      <td>0.004</td>\n",
       "      <td>0.974</td>\n",
       "      <td>0.006</td>\n",
       "    </tr>\n",
       "    <tr>\n",
       "      <th>1</th>\n",
       "      <td>Gold</td>\n",
       "      <td>0.817</td>\n",
       "      <td>0.011</td>\n",
       "      <td>0.981</td>\n",
       "      <td>0.009</td>\n",
       "    </tr>\n",
       "    <tr>\n",
       "      <th>2</th>\n",
       "      <td>NBest</td>\n",
       "      <td>0.949</td>\n",
       "      <td>0.004</td>\n",
       "      <td>0.971</td>\n",
       "      <td>0.010</td>\n",
       "    </tr>\n",
       "  </tbody>\n",
       "</table>\n",
       "</div>"
      ],
      "text/plain": [
       "  Method  asr_f1 mean  asr_f1 std  clean_f1 mean  clean_f1 std\n",
       "0  1Best        0.923       0.004          0.974         0.006\n",
       "1   Gold        0.817       0.011          0.981         0.009\n",
       "2  NBest        0.949       0.004          0.971         0.010"
      ]
     },
     "execution_count": 4,
     "metadata": {},
     "output_type": "execute_result"
    }
   ],
   "source": [
    "out = df.groupby(\"Method\").agg({\"asr_f1\": [\"mean\", \"std\"], \"clean_f1\": [\"mean\", \"std\"]}).round(3)\n",
    "snips = out.copy()\n",
    "snips.columns = [\"asr_f1 mean\", \"asr_f1 std\", \"clean_f1 mean\", \"clean_f1 std\"]\n",
    "snips.reset_index(inplace=True)\n",
    "snips"
   ]
  },
  {
   "cell_type": "code",
   "execution_count": 5,
   "metadata": {},
   "outputs": [],
   "source": [
    "df = get_df(\"dstc2\")\n",
    "df = df.sort_values(\"Method\")"
   ]
  },
  {
   "cell_type": "code",
   "execution_count": 6,
   "metadata": {},
   "outputs": [
    {
     "data": {
      "text/html": [
       "<div>\n",
       "<style scoped>\n",
       "    .dataframe tbody tr th:only-of-type {\n",
       "        vertical-align: middle;\n",
       "    }\n",
       "\n",
       "    .dataframe tbody tr th {\n",
       "        vertical-align: top;\n",
       "    }\n",
       "\n",
       "    .dataframe thead th {\n",
       "        text-align: right;\n",
       "    }\n",
       "</style>\n",
       "<table border=\"1\" class=\"dataframe\">\n",
       "  <thead>\n",
       "    <tr style=\"text-align: right;\">\n",
       "      <th></th>\n",
       "      <th>Method</th>\n",
       "      <th>asr_f1 mean</th>\n",
       "      <th>asr_f1 std</th>\n",
       "      <th>clean_f1 mean</th>\n",
       "      <th>clean_f1 std</th>\n",
       "    </tr>\n",
       "  </thead>\n",
       "  <tbody>\n",
       "    <tr>\n",
       "      <th>0</th>\n",
       "      <td>1Best</td>\n",
       "      <td>0.579</td>\n",
       "      <td>0.023</td>\n",
       "      <td>0.684</td>\n",
       "      <td>0.034</td>\n",
       "    </tr>\n",
       "    <tr>\n",
       "      <th>1</th>\n",
       "      <td>Gold</td>\n",
       "      <td>0.595</td>\n",
       "      <td>0.022</td>\n",
       "      <td>0.829</td>\n",
       "      <td>0.073</td>\n",
       "    </tr>\n",
       "    <tr>\n",
       "      <th>2</th>\n",
       "      <td>NBest</td>\n",
       "      <td>0.602</td>\n",
       "      <td>0.024</td>\n",
       "      <td>0.638</td>\n",
       "      <td>0.051</td>\n",
       "    </tr>\n",
       "  </tbody>\n",
       "</table>\n",
       "</div>"
      ],
      "text/plain": [
       "  Method  asr_f1 mean  asr_f1 std  clean_f1 mean  clean_f1 std\n",
       "0  1Best        0.579       0.023          0.684         0.034\n",
       "1   Gold        0.595       0.022          0.829         0.073\n",
       "2  NBest        0.602       0.024          0.638         0.051"
      ]
     },
     "execution_count": 6,
     "metadata": {},
     "output_type": "execute_result"
    }
   ],
   "source": [
    "out = df.groupby(\"Method\").agg({\"asr_f1\": [\"mean\", \"std\"], \"clean_f1\": [\"mean\", \"std\"]}).round(3)\n",
    "dstc2 = out.copy()\n",
    "dstc2.columns = [\"asr_f1 mean\", \"asr_f1 std\", \"clean_f1 mean\", \"clean_f1 std\"]\n",
    "dstc2.reset_index(inplace=True)\n",
    "dstc2"
   ]
  },
  {
   "cell_type": "code",
   "execution_count": 7,
   "metadata": {},
   "outputs": [
    {
     "name": "stdout",
     "output_type": "stream",
     "text": [
      "  Method  asr_f1 mean  clean_f1 mean\n",
      "0  1Best        0.579          0.684\n",
      "1   Gold        0.595          0.829\n",
      "2  NBest        0.602          0.638\n"
     ]
    }
   ],
   "source": [
    "out.columns = [\"asr_f1 mean\", \"asr_f1 std\", \"clean_f1 mean\", \"clean_f1 std\",]\n",
    "print(out.reset_index().sort_values(\"asr_f1 mean\")[[\"Method\", \"asr_f1 mean\", \"clean_f1 mean\"]])"
   ]
  },
  {
   "cell_type": "code",
   "execution_count": 8,
   "metadata": {},
   "outputs": [],
   "source": [
    "from Levenshtein import distance, ratio\n",
    "import textdistance\n",
    "\n",
    "def AverageRatio(predictions):\n",
    "    dists = []\n",
    "    for nbest in predictions:\n",
    "        source = nbest[0]\n",
    "        d = 0.0\n",
    "        for dest in nbest[1:]:\n",
    "            d += ratio(source, dest) / (len(nbest) - 1)\n",
    "        dists.append(d / len(predictions))\n",
    "    return sum(dists)\n",
    "\n",
    "def AverageJaccard(predictions):\n",
    "    dists = []\n",
    "    for nbest in predictions:\n",
    "        source = nbest[0].split()\n",
    "        d = 0.0\n",
    "        for dest in nbest[1:]:\n",
    "            d += textdistance.jaccard(source, dest.split()) / (len(nbest) - 1)\n",
    "        dists.append(d / len(predictions))\n",
    "    return sum(dists)"
   ]
  },
  {
   "cell_type": "code",
   "execution_count": 9,
   "metadata": {},
   "outputs": [
    {
     "name": "stdout",
     "output_type": "stream",
     "text": [
      "Num Labels 21\n",
      "Num Labels 21\n"
     ]
    },
    {
     "data": {
      "text/plain": [
       "0.29046177864074707"
      ]
     },
     "execution_count": 9,
     "metadata": {},
     "output_type": "execute_result"
    }
   ],
   "source": [
    "from torchmetrics import WordErrorRate\n",
    "from experiments.dstc2.data import Dstc2Dataset\n",
    "\n",
    "m = WordErrorRate()\n",
    "\n",
    "tr_dstc = Dstc2Dataset(\"train\", True, \"<s>\")\n",
    "ts_dstc = Dstc2Dataset(\"test\", True, \"<s>\", label_encoder=tr_dstc.label_encoder)\n",
    "all_clean, all_preds, all_nbest, all_nbest_broken = [], [], [], []\n",
    "\n",
    "for i in range(len(tr_dstc)):\n",
    "    clean, preds, nbest, _ = tr_dstc[i]\n",
    "    all_clean.append(clean)\n",
    "    all_preds.append(preds)\n",
    "    all_nbest.append(nbest)\n",
    "    all_nbest_broken.append(nbest.split(\"<s>\"))\n",
    "\n",
    "for i in range(len(ts_dstc)):\n",
    "    clean, preds, nbest, _ = ts_dstc[i]\n",
    "    all_clean.append(clean)\n",
    "    all_preds.append(preds)\n",
    "    all_nbest.append(nbest)\n",
    "    all_nbest_broken.append(nbest.split(\"<s>\"))\n",
    "\n",
    "dstc_wer = m(all_preds, all_clean).item()\n",
    "dstc_average_ratio = AverageRatio(all_nbest_broken)\n",
    "dstc_average_jaccard = AverageJaccard(all_nbest_broken)\n",
    "dstc_wer"
   ]
  },
  {
   "cell_type": "code",
   "execution_count": 10,
   "metadata": {},
   "outputs": [
    {
     "data": {
      "text/plain": [
       "0.4434865713119507"
      ]
     },
     "execution_count": 10,
     "metadata": {},
     "output_type": "execute_result"
    }
   ],
   "source": [
    "from torchmetrics import WordErrorRate\n",
    "from experiments.snips_tts.data import SnipsTtsDataset\n",
    "\n",
    "m = WordErrorRate()\n",
    "\n",
    "tr_snips = SnipsTtsDataset(\"train\", True, \"<s>\")\n",
    "ts_snips = SnipsTtsDataset(\"test\", True, \"<s>\")\n",
    "all_clean, all_preds, all_nbest, all_nbest_broken = [], [], [], []\n",
    "for i in range(len(tr_snips)):\n",
    "    clean, preds, nbest, _ = tr_snips[i]\n",
    "    all_clean.append(clean)\n",
    "    all_preds.append(preds)\n",
    "    all_nbest.append(nbest)\n",
    "    all_nbest_broken.append(nbest.split(\" <s> \"))\n",
    "    \n",
    "for i in range(len(ts_snips)):\n",
    "    clean, preds, nbest, _ = ts_snips[i]\n",
    "    all_clean.append(clean)\n",
    "    all_preds.append(preds)\n",
    "    all_nbest.append(nbest)\n",
    "    all_nbest_broken.append(nbest.split(\" <s> \"))\n",
    "\n",
    "snips_wer = m(all_preds, all_clean).item()\n",
    "snips_average_ratio = AverageRatio(all_nbest_broken)\n",
    "snips_average_jaccard = AverageJaccard(all_nbest_broken)\n",
    "snips_wer"
   ]
  },
  {
   "cell_type": "code",
   "execution_count": 11,
   "metadata": {},
   "outputs": [
    {
     "data": {
      "text/html": [
       "<div>\n",
       "<style scoped>\n",
       "    .dataframe tbody tr th:only-of-type {\n",
       "        vertical-align: middle;\n",
       "    }\n",
       "\n",
       "    .dataframe tbody tr th {\n",
       "        vertical-align: top;\n",
       "    }\n",
       "\n",
       "    .dataframe thead th {\n",
       "        text-align: right;\n",
       "    }\n",
       "</style>\n",
       "<table border=\"1\" class=\"dataframe\">\n",
       "  <thead>\n",
       "    <tr style=\"text-align: right;\">\n",
       "      <th>index</th>\n",
       "      <th>Dataset</th>\n",
       "      <th>WER</th>\n",
       "      <th>Jaccard-Index</th>\n",
       "      <th>Gestalt-PM</th>\n",
       "      <th>$\\Delta^{1Best}_{NBest}$</th>\n",
       "    </tr>\n",
       "  </thead>\n",
       "  <tbody>\n",
       "    <tr>\n",
       "      <th>1</th>\n",
       "      <td>SNIPS-TTS</td>\n",
       "      <td>0.443</td>\n",
       "      <td>0.639</td>\n",
       "      <td>0.882</td>\n",
       "      <td>2.82</td>\n",
       "    </tr>\n",
       "    <tr>\n",
       "      <th>0</th>\n",
       "      <td>DSTC-2</td>\n",
       "      <td>0.29</td>\n",
       "      <td>0.6</td>\n",
       "      <td>0.799</td>\n",
       "      <td>3.97</td>\n",
       "    </tr>\n",
       "  </tbody>\n",
       "</table>\n",
       "</div>"
      ],
      "text/plain": [
       "index    Dataset    WER Jaccard-Index Gestalt-PM $\\Delta^{1Best}_{NBest}$\n",
       "1      SNIPS-TTS  0.443         0.639      0.882                     2.82\n",
       "0         DSTC-2   0.29           0.6      0.799                     3.97"
      ]
     },
     "execution_count": 11,
     "metadata": {},
     "output_type": "execute_result"
    }
   ],
   "source": [
    "d = [\n",
    "    {\n",
    "        \"Dataset\": \"DSTC-2\",\n",
    "        \"WER\": dstc_wer,\n",
    "        \"Gestalt-PM\": dstc_average_ratio,\n",
    "        \"Jaccard-Index\": dstc_average_jaccard,\n",
    "    },\n",
    "    {\n",
    "        \"Dataset\": \"SNIPS-TTS\",\n",
    "        \"WER\": snips_wer,\n",
    "        \"Gestalt-PM\": snips_average_ratio,\n",
    "        \"Jaccard-Index\": snips_average_jaccard,\n",
    "    },\n",
    "]\n",
    "\n",
    "def compute_delta(table, key, method1, method2):\n",
    "    idx1 = table[\"Method\"].to_list().index(method1)\n",
    "    idx2 = table[\"Method\"].to_list().index(method2)\n",
    "    return round((table[key][idx1] - table[key][idx2]) * 100 / table[key][idx2], 2)\n",
    "\n",
    "d = pd.DataFrame(d).round(3)[[\"Dataset\", \"WER\", \"Gestalt-PM\", \"Jaccard-Index\"]]\n",
    "\n",
    "d_1best_nbest = [{\"index\": r\"$\\Delta^{1Best}_{NBest}$\", 0: compute_delta(dstc2, \"asr_f1 mean\", \"NBest\", \"1Best\"), 1: compute_delta(snips, \"asr_f1 mean\", \"NBest\", \"1Best\")}]\n",
    "d_1best_nbest = pd.DataFrame(d_1best_nbest)\n",
    "\n",
    "d = d.T.reset_index()\n",
    "d = pd.concat([d, d_1best_nbest]).round(2)\n",
    "d = d.T\n",
    "d.columns = d.iloc[0]\n",
    "d = d.iloc[1:].sort_values(\"Jaccard-Index\", ascending=False)\n",
    "d = d[[\"Dataset\", \"WER\", \"Jaccard-Index\", \"Gestalt-PM\", \"$\\Delta^{1Best}_{NBest}$\"]]\n",
    "d"
   ]
  },
  {
   "cell_type": "code",
   "execution_count": 12,
   "metadata": {},
   "outputs": [
    {
     "name": "stdout",
     "output_type": "stream",
     "text": [
      "Dataset,WER,Jaccard-Index,Gestalt-PM,$\\Delta^{1Best}_{NBest}$\n",
      "SNIPS-TTS,0.443,0.639,0.882,2.82\n",
      "DSTC-2,0.29,0.6,0.799,3.97\n",
      "\n"
     ]
    }
   ],
   "source": [
    "print(d.to_csv(index=False))"
   ]
  },
  {
   "cell_type": "code",
   "execution_count": 13,
   "metadata": {},
   "outputs": [
    {
     "name": "stdout",
     "output_type": "stream",
     "text": [
      "dstc2 10886 9159 20045\n",
      "snips 11015 580 11595\n"
     ]
    }
   ],
   "source": [
    "print(\"dstc2\", len(tr_dstc), len(ts_dstc), len(tr_dstc) + len(ts_dstc))\n",
    "print(\"snips\", len(tr_snips), len(ts_snips), len(tr_snips) + len(ts_snips))"
   ]
  }
 ],
 "metadata": {
  "kernelspec": {
   "display_name": "Python 3.9.12 64-bit ('miniconda3')",
   "language": "python",
   "name": "python3"
  },
  "language_info": {
   "codemirror_mode": {
    "name": "ipython",
    "version": 3
   },
   "file_extension": ".py",
   "mimetype": "text/x-python",
   "name": "python",
   "nbconvert_exporter": "python",
   "pygments_lexer": "ipython3",
   "version": "3.9.12"
  },
  "vscode": {
   "interpreter": {
    "hash": "f9ea562a4a3ff7dbf8931354ab8afba398e8ac85223bcc8c57a2fe4ff9082340"
   }
  }
 },
 "nbformat": 4,
 "nbformat_minor": 2
}
